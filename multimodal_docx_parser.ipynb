{
 "cells": [
  {
   "cell_type": "code",
   "execution_count": 1,
   "id": "9fb373c3-7543-4427-84bb-dfcc054b9458",
   "metadata": {},
   "outputs": [],
   "source": [
    "import docx\n",
    "from docx.oxml.table import CT_Tbl\n",
    "from docx.oxml.text.paragraph import CT_P\n",
    "from docx.table import Table\n",
    "from docx.text.paragraph import Paragraph\n",
    "\n",
    "import pandas as pd\n",
    "import os\n",
    "\n",
    "from uuid import uuid4\n",
    "from unidecode import unidecode\n",
    "\n",
    "os.chdir('multimodal_docx_parser_files/')"
   ]
  },
  {
   "cell_type": "code",
   "execution_count": 2,
   "id": "9a000221-2644-412c-aac6-445dc72724ca",
   "metadata": {},
   "outputs": [
    {
     "data": {
      "text/plain": [
       "'C:\\\\Users\\\\91994\\\\my_workspace\\\\doc_parser\\\\multimodal_docx_parser_files'"
      ]
     },
     "execution_count": 2,
     "metadata": {},
     "output_type": "execute_result"
    }
   ],
   "source": [
    "os.getcwd()"
   ]
  },
  {
   "cell_type": "code",
   "execution_count": 3,
   "id": "60206393-fdda-41dc-898f-2860d06a1ff3",
   "metadata": {},
   "outputs": [],
   "source": [
    "import openai\n",
    "from openai import OpenAI\n",
    "from dotenv import load_dotenv, find_dotenv\n",
    "_ = load_dotenv(find_dotenv())\n",
    "openai.apikey = os.environ['OPENAI_API_KEY']"
   ]
  },
  {
   "cell_type": "code",
   "execution_count": 4,
   "id": "fd598c35-976e-4b3b-b14e-530089252e6c",
   "metadata": {},
   "outputs": [],
   "source": [
    "from langchain.prompts import ChatPromptTemplate\n",
    "from langchain_openai import ChatOpenAI\n",
    "from langchain.schema.output_parser import StrOutputParser"
   ]
  },
  {
   "cell_type": "code",
   "execution_count": 5,
   "id": "96a5a146-778c-4095-87b7-3ab73bfcbd41",
   "metadata": {},
   "outputs": [],
   "source": [
    "def gen_uuid4():\n",
    "    return str(uuid4())"
   ]
  },
  {
   "cell_type": "code",
   "execution_count": 6,
   "id": "3d0a1c7e-c4c6-402c-87ad-dcb778dc6dba",
   "metadata": {},
   "outputs": [],
   "source": [
    "def extract_image_from_para(doc, para):\n",
    "    image_found = False\n",
    "    image_filename = None\n",
    "    alt_text = None\n",
    "\n",
    "    for run in para.runs:\n",
    "        #check if the run contains a picture\n",
    "        if run._element.xpath('.//w:drawing'):\n",
    "            #Extract the image binary data\n",
    "            image = run._element.xpath('.//a:blip/@r:embed')[0]\n",
    "            relationship_id = image\n",
    "            image_part = doc.part.related_parts[relationship_id]\n",
    "\n",
    "            # Save the image to a file\n",
    "            image_filename = f'extracted_image_{relationship_id}.jpg'\n",
    "            with open(image_filename, 'wb') as img_file:\n",
    "                img_file.write(image_part.blob)\n",
    "    \n",
    "            #Extract the alt text\n",
    "            alt_text_elements = run._element.xpath('.//wp:docPr/@descr')\n",
    "            alt_text = alt_text_elements[0] if alt_text_elements else 'No Alt Text'\n",
    "    \n",
    "            image_found = True\n",
    "    return image_found, image_filename, alt_text"
   ]
  },
  {
   "cell_type": "code",
   "execution_count": 7,
   "id": "c016fca1-6d88-47a8-8691-8e847ba6d322",
   "metadata": {},
   "outputs": [],
   "source": [
    "def iter_block_items(parent):\n",
    "    \"\"\"Yield each paragraph, text, and image within *parent*, in document order\n",
    "    Each returned value is an instance of either Table, Paragraph or InlineShape.\"\"\"\n",
    "    parent_elem = parent.element.body\n",
    "    for child in parent_elem.iterchildren():\n",
    "        if isinstance(child, CT_P):\n",
    "            yield Paragraph(child, parent)\n",
    "        elif isinstance(child, CT_Tbl):\n",
    "            yield Table(child, parent)\n",
    "        elif child.tag.endswith('drawing'):\n",
    "            yield 'Image'"
   ]
  },
  {
   "cell_type": "code",
   "execution_count": 8,
   "id": "d8eb404b-d1db-4c47-9e73-484a69aced8e",
   "metadata": {},
   "outputs": [],
   "source": [
    "def extract_tables_into_csv(table, doc_name, table_id):\n",
    "    data=[]\n",
    "    for row in table.rows:\n",
    "        data.append([cell.text for cell in row.cells])\n",
    "    df = pd.DataFrame(data)\n",
    "    file_name = f'{doc_name}_table_{table_id}.csv'\n",
    "    df.to_csv(file_name, index=False, header=None)\n",
    "    table_markdown = df.to_markdown(index=False)\n",
    "    return file_name, table_markdown"
   ]
  },
  {
   "cell_type": "code",
   "execution_count": 9,
   "id": "fedb022a-306d-4eb2-b6e7-e6ab4a81de40",
   "metadata": {},
   "outputs": [],
   "source": [
    "def process_paragraph(para):\n",
    "    para_text = para.text\n",
    "    para_style = para.style.name\n",
    "    return para_text, para_style"
   ]
  },
  {
   "cell_type": "code",
   "execution_count": 10,
   "id": "ccbf44d4-b9ae-4498-b383-046da5646825",
   "metadata": {},
   "outputs": [],
   "source": [
    "def flatten_table(table):\n",
    "    row_id = 0\n",
    "    data = []\n",
    "    flat_table_df = pd.DataFrame(columns=['rec_id','table_rec_id','table_id','row_id','cell_id','content_type','cell_text','image_loc'])\n",
    "    for row in table.rows:\n",
    "        row_id+=1\n",
    "        cell_id =0\n",
    "        for cell in row.cells:\n",
    "            cell_id+=1\n",
    "\n",
    "            image, image_loc, image_alt_text = extract_image_from_para(doc, cell.paragraphs[0])\n",
    "            if image:\n",
    "                content = image_alt_text\n",
    "                content_type = 'Image'\n",
    "                image_loc = image_loc\n",
    "            else:\n",
    "                content = cell.text\n",
    "                content_type = 'Text'\n",
    "                image_loc = None\n",
    "\n",
    "            flat_table_df.loc[len(flat_table_df.index)] = [gen_uuid4(), None, None, row_id, cell_id, content_type, content, image_loc]\n",
    "    return flat_table_df\n"
   ]
  },
  {
   "cell_type": "code",
   "execution_count": 11,
   "id": "b3383e07-e2ed-4c4e-9be9-d8cb4fc6db2d",
   "metadata": {},
   "outputs": [
    {
     "name": "stdout",
     "output_type": "stream",
     "text": [
      "<docx.text.paragraph.Paragraph object at 0x0000019A504A50D0>\n",
      "<docx.text.paragraph.Paragraph object at 0x0000019A50485F70>\n",
      "<docx.text.paragraph.Paragraph object at 0x0000019A504A50D0>\n",
      "<docx.text.paragraph.Paragraph object at 0x0000019A504A5100>\n",
      "<docx.text.paragraph.Paragraph object at 0x0000019A504A50A0>\n",
      "<docx.text.paragraph.Paragraph object at 0x0000019A504A5100>\n",
      "<docx.text.paragraph.Paragraph object at 0x0000019A504A50D0>\n",
      "<docx.table.Table object at 0x0000019A504A5100>\n",
      "<docx.text.paragraph.Paragraph object at 0x0000019A504A5070>\n",
      "<docx.text.paragraph.Paragraph object at 0x0000019A504C0160>\n",
      "<docx.text.paragraph.Paragraph object at 0x0000019A504A5070>\n",
      "<docx.text.paragraph.Paragraph object at 0x0000019A504C0160>\n",
      "<docx.text.paragraph.Paragraph object at 0x0000019A504A5070>\n",
      "<docx.text.paragraph.Paragraph object at 0x0000019A504C0160>\n",
      "<docx.text.paragraph.Paragraph object at 0x0000019A504A5070>\n",
      "<docx.text.paragraph.Paragraph object at 0x0000019A504C01C0>\n",
      "<docx.text.paragraph.Paragraph object at 0x0000019A504A5070>\n",
      "<docx.table.Table object at 0x0000019A504C01C0>\n",
      "<docx.text.paragraph.Paragraph object at 0x0000019A504C5F10>\n",
      "<docx.text.paragraph.Paragraph object at 0x0000019A504C0310>\n",
      "<docx.text.paragraph.Paragraph object at 0x0000019A504C5F10>\n",
      "<docx.text.paragraph.Paragraph object at 0x0000019A504C00D0>\n",
      "<docx.table.Table object at 0x0000019A504C5F10>\n",
      "<docx.text.paragraph.Paragraph object at 0x0000019A50526580>\n",
      "<docx.text.paragraph.Paragraph object at 0x0000019A50526CA0>\n",
      "<docx.text.paragraph.Paragraph object at 0x0000019A505269D0>\n",
      "<docx.table.Table object at 0x0000019A50526D90>\n",
      "<docx.text.paragraph.Paragraph object at 0x0000019A50556640>\n",
      "<docx.text.paragraph.Paragraph object at 0x0000019A50556370>\n",
      "<docx.text.paragraph.Paragraph object at 0x0000019A505567F0>\n",
      "<docx.text.paragraph.Paragraph object at 0x0000019A50556250>\n",
      "<docx.text.paragraph.Paragraph object at 0x0000019A505561C0>\n",
      "<docx.text.paragraph.Paragraph object at 0x0000019A505563D0>\n",
      "<docx.text.paragraph.Paragraph object at 0x0000019A505567F0>\n",
      "<docx.text.paragraph.Paragraph object at 0x0000019A50556640>\n",
      "<docx.text.paragraph.Paragraph object at 0x0000019A50556220>\n",
      "<docx.text.paragraph.Paragraph object at 0x0000019A505560A0>\n",
      "<docx.text.paragraph.Paragraph object at 0x0000019A50556D90>\n",
      "<docx.text.paragraph.Paragraph object at 0x0000019A50556AC0>\n",
      "<docx.text.paragraph.Paragraph object at 0x0000019A50556EB0>\n",
      "<docx.text.paragraph.Paragraph object at 0x0000019A50556A30>\n",
      "<docx.text.paragraph.Paragraph object at 0x0000019A505561F0>\n",
      "<docx.text.paragraph.Paragraph object at 0x0000019A50556AC0>\n",
      "<docx.text.paragraph.Paragraph object at 0x0000019A505568E0>\n",
      "<docx.text.paragraph.Paragraph object at 0x0000019A50556250>\n",
      "<docx.text.paragraph.Paragraph object at 0x0000019A505564C0>\n",
      "<docx.text.paragraph.Paragraph object at 0x0000019A50556E80>\n",
      "<docx.text.paragraph.Paragraph object at 0x0000019A505560A0>\n",
      "<docx.text.paragraph.Paragraph object at 0x0000019A505561F0>\n",
      "<docx.text.paragraph.Paragraph object at 0x0000019A50556970>\n",
      "<docx.text.paragraph.Paragraph object at 0x0000019A505568B0>\n",
      "<docx.text.paragraph.Paragraph object at 0x0000019A50556D90>\n",
      "<docx.text.paragraph.Paragraph object at 0x0000019A50556760>\n",
      "<docx.text.paragraph.Paragraph object at 0x0000019A50556250>\n",
      "<docx.text.paragraph.Paragraph object at 0x0000019A50556580>\n",
      "<docx.text.paragraph.Paragraph object at 0x0000019A50556E80>\n",
      "<docx.text.paragraph.Paragraph object at 0x0000019A50556070>\n",
      "<docx.text.paragraph.Paragraph object at 0x0000019A50556C40>\n",
      "<docx.text.paragraph.Paragraph object at 0x0000019A505568B0>\n",
      "<docx.text.paragraph.Paragraph object at 0x0000019A50556640>\n",
      "<docx.text.paragraph.Paragraph object at 0x0000019A505565B0>\n",
      "<docx.text.paragraph.Paragraph object at 0x0000019A50556760>\n",
      "<docx.text.paragraph.Paragraph object at 0x0000019A50556AC0>\n",
      "<docx.text.paragraph.Paragraph object at 0x0000019A505564C0>\n",
      "<docx.text.paragraph.Paragraph object at 0x0000019A50556580>\n",
      "<docx.text.paragraph.Paragraph object at 0x0000019A50556D90>\n",
      "<docx.text.paragraph.Paragraph object at 0x0000019A505565B0>\n",
      "<docx.text.paragraph.Paragraph object at 0x0000019A50556A90>\n",
      "<docx.text.paragraph.Paragraph object at 0x0000019A505563D0>\n",
      "<docx.text.paragraph.Paragraph object at 0x0000019A505568E0>\n",
      "<docx.text.paragraph.Paragraph object at 0x0000019A50556D60>\n",
      "<docx.text.paragraph.Paragraph object at 0x0000019A50556520>\n",
      "<docx.text.paragraph.Paragraph object at 0x0000019A50556FA0>\n",
      "<docx.text.paragraph.Paragraph object at 0x0000019A50556790>\n",
      "<docx.text.paragraph.Paragraph object at 0x0000019A50556250>\n",
      "<docx.text.paragraph.Paragraph object at 0x0000019A505568B0>\n",
      "<docx.text.paragraph.Paragraph object at 0x0000019A50556D60>\n",
      "<docx.text.paragraph.Paragraph object at 0x0000019A50556640>\n",
      "<docx.text.paragraph.Paragraph object at 0x0000019A50556EB0>\n",
      "<docx.text.paragraph.Paragraph object at 0x0000019A505562B0>\n",
      "<docx.text.paragraph.Paragraph object at 0x0000019A50556F70>\n",
      "<docx.text.paragraph.Paragraph object at 0x0000019A50556A30>\n",
      "<docx.text.paragraph.Paragraph object at 0x0000019A50556520>\n",
      "<docx.text.paragraph.Paragraph object at 0x0000019A50556250>\n",
      "<docx.text.paragraph.Paragraph object at 0x0000019A505564C0>\n",
      "<docx.text.paragraph.Paragraph object at 0x0000019A505560A0>\n",
      "<docx.text.paragraph.Paragraph object at 0x0000019A50556130>\n",
      "<docx.text.paragraph.Paragraph object at 0x0000019A505562E0>\n",
      "<docx.text.paragraph.Paragraph object at 0x0000019A50556FD0>\n",
      "<docx.text.paragraph.Paragraph object at 0x0000019A50556070>\n",
      "<docx.text.paragraph.Paragraph object at 0x0000019A50556220>\n",
      "<docx.table.Table object at 0x0000019A50556640>\n",
      "<docx.text.paragraph.Paragraph object at 0x0000019A5051B070>\n"
     ]
    }
   ],
   "source": [
    "#load the document\n",
    "doc_name = 'Birdwatching Guide'\n",
    "doc = docx.Document(f'{doc_name}.docx')\n",
    "\n",
    "content_df = pd.DataFrame(columns=['rec_id','section_id','content_type', 'content', 'content_style', 'table_location', 'image_location'])\n",
    "table_id = 1\n",
    "table_location = ''\n",
    "content_table_df = pd.DataFrame(columns=['rec_id','table_rec_id','table_id','row_id','cell_id','content_type','cell_text','image_loc'])\n",
    "\n",
    "#iterate thru each item and classify\n",
    "for item in iter_block_items(doc):\n",
    "    rec_id = gen_uuid4()\n",
    "    table_location = None\n",
    "    content = None\n",
    "    image_location = None\n",
    "    print(item)\n",
    "    if isinstance(item, Paragraph):\n",
    "        image, image_loc, image_alt_text = extract_image_from_para(doc, item)\n",
    "        if image:\n",
    "            content_type = 'Image'\n",
    "            content = image_alt_text\n",
    "            image_location = image_loc\n",
    "        else:\n",
    "            content, content_style = process_paragraph(item)\n",
    "            content_type = 'Para'\n",
    "            if content.strip() == '':\n",
    "                continue\n",
    "    elif isinstance(item, Table):\n",
    "        table_location, content = extract_tables_into_csv(item, doc_name, table_id)\n",
    "        content_type = 'Table'\n",
    "        table_df = flatten_table(item)\n",
    "        table_df['table_rec_id'] = rec_id\n",
    "        table_df['table_id'] = table_id\n",
    "        content_table_df = pd.concat([content_table_df, table_df], ignore_index=True)\n",
    "        table_id+=1\n",
    "\n",
    "    elif item=='Image':\n",
    "        image, image_loc, image_alt_text = extract_image_from_para(doc, item)\n",
    "        print('Image found')\n",
    "        content_type = 'Image'\n",
    "\n",
    "    content_df.loc[len(content_df.index)] = [rec_id, None, content_type, content, content_style, table_location, image_location]\n",
    "\n",
    "content_df.to_csv(f'{doc_name}_updated_content.csv')\n",
    "content_table_df.to_csv(f'{doc_name}_updated_content_table.csv')"
   ]
  },
  {
   "cell_type": "code",
   "execution_count": 12,
   "id": "020e9312-c52a-44e1-9470-fe83bcfc5e76",
   "metadata": {},
   "outputs": [],
   "source": [
    "import base64\n",
    "#function to encode image\n",
    "def encode_image(image_path):\n",
    "    with open(image_path, \"rb\") as image_file:\n",
    "        return base64.b64encode(image_file.read()).decode('utf-8')"
   ]
  },
  {
   "cell_type": "code",
   "execution_count": 13,
   "id": "5ef43c12-342f-45c0-a4d6-07595aec3338",
   "metadata": {},
   "outputs": [],
   "source": [
    "client = OpenAI()\n",
    "\n",
    "def gen_image_desc(base64_image):\n",
    "    response = client.chat.completions.create(\n",
    "        model=\"gpt-4o-mini\",\n",
    "        messages=[\n",
    "            {\n",
    "                \"role\": \"user\",\n",
    "                \"content\": [\n",
    "                    {\n",
    "                        \"type\": \"text\",\n",
    "                        \"text\": \"Describe the image in single sentence\"\n",
    "                    },\n",
    "                    {\n",
    "                        \"type\": \"image_url\",\n",
    "                        \"image_url\": {\n",
    "                            \"url\": f\"data:image/jpeg;base64,{base64_image}\"\n",
    "                        }\n",
    "                    }\n",
    "                ]\n",
    "            }\n",
    "        ]\n",
    "    )\n",
    "    return response.choices[0].message.content"
   ]
  },
  {
   "cell_type": "code",
   "execution_count": 14,
   "id": "5b5b4348-6718-4684-a5c2-2eaa83331f90",
   "metadata": {},
   "outputs": [],
   "source": [
    "content_table_df['ai_gen_image_desc'] = None\n",
    "content_table_df.fillna('', inplace=True)\n",
    "image_df = content_table_df[content_table_df.image_loc != '']"
   ]
  },
  {
   "cell_type": "code",
   "execution_count": 15,
   "id": "43b0330c-ecbd-4d0e-a335-17d90b16be9e",
   "metadata": {},
   "outputs": [],
   "source": [
    "for idx, rec in image_df.iterrows():\n",
    "    #path to your image\n",
    "    image_path = rec['image_loc']\n",
    "    #Getting the base64 string\n",
    "    base64_image = encode_image(image_path)\n",
    "\n",
    "    img_desc = gen_image_desc(base64_image)\n",
    "    content_table_df.loc[content_table_df.rec_id == rec['rec_id'], 'ai_gen_image_desc'] = img_desc"
   ]
  },
  {
   "cell_type": "code",
   "execution_count": 16,
   "id": "89cd1e24-9d57-4e05-b5b9-4b4212242b76",
   "metadata": {},
   "outputs": [],
   "source": [
    "content_table_df.to_csv(f'{doc_name}_updated_content_table_img_desc.csv')"
   ]
  },
  {
   "cell_type": "code",
   "execution_count": 17,
   "id": "0a6d6a69-c73f-413f-9cce-aa1a8764bd14",
   "metadata": {},
   "outputs": [],
   "source": [
    "prompt = ChatPromptTemplate.from_template(\n",
    "    \"\"\"1. Generate a short summary for the content and\n",
    "    2. Extract the list of headers from the content and provide in a comma seperated list.\n",
    "    Provide these above details in key value pairs for Summary and Headers in Json format\n",
    "\n",
    "    Content: ```{table_content}```\"\"\"\n",
    ")\n",
    "model=ChatOpenAI()\n",
    "output_parser=StrOutputParser()\n",
    "\n",
    "table_summary_chain = prompt|model|output_parser"
   ]
  },
  {
   "cell_type": "code",
   "execution_count": 18,
   "id": "42fa4059-c7c0-493e-bcd7-004f55b6517a",
   "metadata": {},
   "outputs": [],
   "source": [
    "content_df['table_summary'] = None\n",
    "content_df.fillna('', inplace=True)\n",
    "table_df = content_df[content_df.table_location!='']"
   ]
  },
  {
   "cell_type": "code",
   "execution_count": 19,
   "id": "e7ceca7f-d3a5-4b03-b5ac-ee2d608457b6",
   "metadata": {},
   "outputs": [],
   "source": [
    "for idx, rec in table_df.iterrows():\n",
    "    df = pd.read_csv(rec['table_location'])\n",
    "    table_str = str(df.to_json())\n",
    "    response = table_summary_chain.invoke({\"table_content\": table_str})\n",
    "    content_df.loc[content_df.rec_id == rec['rec_id'], 'table_summary'] = response"
   ]
  },
  {
   "cell_type": "code",
   "execution_count": 20,
   "id": "d7a13cb4-3228-4166-9652-25a6733dd06e",
   "metadata": {},
   "outputs": [],
   "source": [
    "content_df.to_csv(f'{doc_name}_updated_content_table_summary.csv')"
   ]
  }
 ],
 "metadata": {
  "kernelspec": {
   "display_name": "Python 3 (ipykernel)",
   "language": "python",
   "name": "python3"
  },
  "language_info": {
   "codemirror_mode": {
    "name": "ipython",
    "version": 3
   },
   "file_extension": ".py",
   "mimetype": "text/x-python",
   "name": "python",
   "nbconvert_exporter": "python",
   "pygments_lexer": "ipython3",
   "version": "3.9.13"
  }
 },
 "nbformat": 4,
 "nbformat_minor": 5
}
